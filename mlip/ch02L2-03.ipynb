{
 "cells": [
  {
   "cell_type": "code",
   "execution_count": 2,
   "metadata": {},
   "outputs": [
    {
     "name": "stdout",
     "output_type": "stream",
     "text": [
      "Mean = 0.0538923076923\n",
      "Standard Deviation = 0.0464159832226\n",
      "Boundaries for 4 Equal Percentiles\n",
      "[0.0057999999999999996, 0.024375000000000001, 0.044049999999999999, 0.064500000000000002, 0.4264]\n",
      "Boundaries for 10 Equal Percentiles\n",
      "[0.0057999999999999996, 0.0141, 0.022740000000000003, 0.027869999999999995, 0.036220000000000002, 0.044049999999999999, 0.050719999999999987, 0.059959999999999986, 0.077940000000000009, 0.10836, 0.4264]\n",
      "Unique Label Values\n",
      "{'R', 'M'}\n",
      "Counts for Each Value of Categorical Label\n",
      "['R', 'M']\n",
      "[97, 111]\n"
     ]
    }
   ],
   "source": [
    "from urllib.request import urlopen\n",
    "import sys\n",
    "import numpy as np\n",
    "\n",
    "target_url = (\"https://archive.ics.uci.edu/ml/machine-learning-databases/undocumented/connectionist-bench/sonar/sonar.all-data\")\n",
    "\n",
    "data = urlopen(target_url)\n",
    "\n",
    "xList = []\n",
    "labels = []\n",
    "\n",
    "for line in data:\n",
    "    line = line.decode()\n",
    "    row = line.strip().split(\",\")\n",
    "    xList.append(row)\n",
    "    \n",
    "nrow = len(xList)\n",
    "ncol = len(xList[1])\n",
    "\n",
    "type = [0] * 3\n",
    "colCounts = []\n",
    "\n",
    "#generate summary statistics for column 3 (e.g.)\n",
    "col = 3\n",
    "colData = []\n",
    "for row in xList:\n",
    "    colData.append(float(row[col]))\n",
    "    \n",
    "colArray = np.array(colData)\n",
    "colMean = np.mean(colArray)\n",
    "colsd = np.std(colArray)\n",
    "\n",
    "print(\"Mean = \" + str(colMean))\n",
    "print(\"Standard Deviation = \" + str(colsd))\n",
    "\n",
    "#calculate quantile boundaries\n",
    "ntiles = 4\n",
    "percentBdry = []\n",
    "\n",
    "for i in range(ntiles + 1):\n",
    "    percentBdry.append(np.percentile(colArray, i * (100) / ntiles))\n",
    "    \n",
    "print(\"Boundaries for 4 Equal Percentiles\")\n",
    "print(percentBdry)\n",
    "\n",
    "ntiles = 10\n",
    "percentBdry = []\n",
    "\n",
    "for i in range(ntiles + 1):\n",
    "    percentBdry.append(np.percentile(colArray, i * (100) / ntiles))\n",
    "    \n",
    "print(\"Boundaries for 10 Equal Percentiles\")\n",
    "print(percentBdry)\n",
    "\n",
    "col = 60\n",
    "colData = []\n",
    "for row in xList:\n",
    "    colData.append(row[col])\n",
    "    \n",
    "unique = set(colData)\n",
    "print(\"Unique Label Values\")\n",
    "print(unique)\n",
    "\n",
    "catDict = dict(zip(list(unique), range(len(unique))))\n",
    "\n",
    "catCount = [0] * 2\n",
    "\n",
    "for elt in colData:\n",
    "    catCount[catDict[elt]] += 1\n",
    "\n",
    "print(\"Counts for Each Value of Categorical Label\")\n",
    "print(list(unique))\n",
    "print(catCount)"
   ]
  },
  {
   "cell_type": "code",
   "execution_count": null,
   "metadata": {
    "collapsed": true
   },
   "outputs": [],
   "source": []
  }
 ],
 "metadata": {
  "kernelspec": {
   "display_name": "Python 3",
   "language": "python",
   "name": "python3"
  },
  "language_info": {
   "codemirror_mode": {
    "name": "ipython",
    "version": 3
   },
   "file_extension": ".py",
   "mimetype": "text/x-python",
   "name": "python",
   "nbconvert_exporter": "python",
   "pygments_lexer": "ipython3",
   "version": "3.6.2"
  }
 },
 "nbformat": 4,
 "nbformat_minor": 2
}
