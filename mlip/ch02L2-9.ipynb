{
 "cells": [
  {
   "cell_type": "code",
   "execution_count": 1,
   "metadata": {},
   "outputs": [
    {
     "name": "stdout",
     "output_type": "stream",
     "text": [
      "Correlation between attribute 2 and 3:\n",
      "0.770938121191\n",
      "Correlation between attribute 2 and 21:\n",
      "0.466548080789\n"
     ]
    }
   ],
   "source": [
    "import pandas as pd\n",
    "from pandas import DataFrame\n",
    "import matplotlib.pyplot as plot\n",
    "from math import sqrt\n",
    "\n",
    "target_url = (\"https://archive.ics.uci.edu/ml/machine-learning-databases/undocumented/connectionist-bench/sonar/sonar.all-data\")\n",
    "\n",
    "rocksVMines = pd.read_csv(target_url, header=None, prefix=\"V\")\n",
    "\n",
    "dataRow2 = rocksVMines.iloc[1, 0:60]\n",
    "dataRow3 = rocksVMines.iloc[2, 0:60]\n",
    "dataRow21 = rocksVMines.iloc[20, 0:60]\n",
    "\n",
    "mean2 = 0.0\n",
    "mean3 = 0.0\n",
    "mean21 = 0.0\n",
    "numElt = len(dataRow2)\n",
    "for i in range(numElt):\n",
    "    mean2 += dataRow2[i]/numElt\n",
    "    mean3 += dataRow3[i]/numElt\n",
    "    mean21 += dataRow21[i]/numElt\n",
    "    \n",
    "var2 = 0.0\n",
    "var3 = 0.0\n",
    "var21 = 0.0\n",
    "for i in range(numElt):\n",
    "    var2 += (dataRow2[i] - mean2) * (dataRow2[i] - mean2) / numElt\n",
    "    var3 += (dataRow3[i] - mean3) * (dataRow3[i] - mean3) / numElt\n",
    "    var21 += (dataRow21[i] - mean21) * (dataRow21[i] - mean21) / numElt\n",
    "    \n",
    "corr23 = 0.0\n",
    "corr221 = 0.0\n",
    "for i in range(numElt):\n",
    "    corr23 += (dataRow2[i] - mean2) * (dataRow3[i] - mean3) / (sqrt(var2 * var3) * numElt)\n",
    "    corr221 += (dataRow2[i] - mean2) * (dataRow21[i] - mean21) / (sqrt(var2 * var21) * numElt)\n",
    "    \n",
    "print(\"Correlation between attribute 2 and 3:\")\n",
    "print(corr23)\n",
    "\n",
    "print(\"Correlation between attribute 2 and 21:\")\n",
    "print(corr221)"
   ]
  },
  {
   "cell_type": "code",
   "execution_count": null,
   "metadata": {
    "collapsed": true
   },
   "outputs": [],
   "source": []
  }
 ],
 "metadata": {
  "kernelspec": {
   "display_name": "Python 3",
   "language": "python",
   "name": "python3"
  },
  "language_info": {
   "codemirror_mode": {
    "name": "ipython",
    "version": 3
   },
   "file_extension": ".py",
   "mimetype": "text/x-python",
   "name": "python",
   "nbconvert_exporter": "python",
   "pygments_lexer": "ipython3",
   "version": "3.6.3"
  }
 },
 "nbformat": 4,
 "nbformat_minor": 2
}
