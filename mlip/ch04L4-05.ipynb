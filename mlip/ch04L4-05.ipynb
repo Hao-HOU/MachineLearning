{
 "cells": [
  {
   "cell_type": "code",
   "execution_count": 1,
   "metadata": {},
   "outputs": [
    {
     "data": {
      "image/png": "[encoded data removed]",
      "text/plain": [
       "<matplotlib.figure.Figure at 0x105d63668>"
      ]
     },
     "metadata": {},
     "output_type": "display_data"
    }
   ],
   "source": [
    "from urllib.request import urlopen\n",
    "import matplotlib.pyplot as plot\n",
    "from math import sqrt, cos, log\n",
    "\n",
    "#read data into iterable\n",
    "target_url = \"http://archive.ics.uci.edu/ml/machine-learning-databases/wine-quality/winequality-red.csv\"\n",
    "data = urlopen(target_url)\n",
    "\n",
    "xList = []\n",
    "labels = []\n",
    "names = []\n",
    "firstLine = True\n",
    "for line in data:\n",
    "    line = line.decode()\n",
    "    if firstLine:\n",
    "        names = line.strip().split(\";\")\n",
    "        firstLine = False\n",
    "    else:\n",
    "        #split on semi-colon\n",
    "        row = line.strip().split(\";\")\n",
    "        #put labels in separate array\n",
    "        labels.append(float(row[-1]))\n",
    "        #remove label from row\n",
    "        row.pop()\n",
    "        #convert row to floats\n",
    "        floatRow = [float(num) for num in row]\n",
    "        xList.append(floatRow)\n",
    "        \n",
    "#extend the alcohol variable (the last column in that attribute matrix\n",
    "xExtended = []\n",
    "alchCol = len(xList[1])\n",
    "\n",
    "for row in xList:\n",
    "    newRow = list(row)\n",
    "    alch = row[alchCol - 1]\n",
    "    newRow.append((alch - 7) * (alch - 7)/10)\n",
    "    newRow.append(5 * log(alch - 7))\n",
    "    newRow.append(cos(alch))\n",
    "    xExtended.append(newRow)\n",
    "    \n",
    "nrow = len(xList)\n",
    "v1 = [xExtended[j][alchCol - 1] for j in range(nrow)]\n",
    "\n",
    "for i in range(4):\n",
    "    v2 = [xExtended[j][alchCol - 1 + i] for j in range(nrow)]\n",
    "    plot.scatter(v1,v2)\n",
    "\n",
    "plot.xlabel(\"Alcohol\")\n",
    "plot.ylabel((\"Extension Functions of Alcohol\"))\n",
    "plot.show()"
   ]
  },
  {
   "cell_type": "code",
   "execution_count": null,
   "metadata": {
    "collapsed": true
   },
   "outputs": [],
   "source": []
  }
 ],
 "metadata": {
  "kernelspec": {
   "display_name": "Python 3",
   "language": "python",
   "name": "python3"
  },
  "language_info": {
   "codemirror_mode": {
    "name": "ipython",
    "version": 3
   },
   "file_extension": ".py",
   "mimetype": "text/x-python",
   "name": "python",
   "nbconvert_exporter": "python",
   "pygments_lexer": "ipython3",
   "version": "3.6.2"
  }
 },
 "nbformat": 4,
 "nbformat_minor": 2
}
